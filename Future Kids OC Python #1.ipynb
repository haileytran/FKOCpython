{
 "cells": [
  {
   "cell_type": "markdown",
   "metadata": {},
   "source": [
    "# <font size=\"15\"> Future Kids OC: Python 1 </font>\n",
    "## Table of Contents:\n",
    "1. [Jupyter Notebook](#section1)  \n",
    "    1.1 [Strings](#section1.1)  \n",
    "    1.2 [Cells](#section1.2)  \n",
    "    1.3 [Jupyter Notebook Shortcuts](#section1.3)   \n",
    "2. [Numbers](#section2)  \n",
    "    2.1 [Number Data Types](#section2.1)  \n",
    "    2.2 [Basic Arithmetic Operations](#section2.2)   \n",
    "3. [Python Basics](#section3)  \n",
    "   3.1 [Errors](#section3.1)  \n",
    "    3.2 [Comments](#section3.2)  \n",
    "    3.3 [Assignment Statments](#section3.3)  \n",
    "    3.4 [Functions](#section3.4)  \n",
    "    3.5 [Importing Code](#section3.5)    \n",
    "## Contact:\n",
    "[Future Kids OC](mailto:hello@futurekidsoc.com) \n",
    "\n",
    "\n",
    "After today you will know how to:\n",
    "1. navigate through Jupyter Notebooks \n",
    "2. write and comprehend basic Python arithmetic expressions \n",
    "3. understand and execute essential Python code"
   ]
  },
  {
   "cell_type": "markdown",
   "metadata": {},
   "source": [
    "<a id='section1'></a>\n",
    "# Part 1: Jupyter Notebooks"
   ]
  },
  {
   "cell_type": "markdown",
   "metadata": {},
   "source": [
    "<a id='section1.1'></a>\n",
    "### 1.1 Strings\n",
    "\n",
    "A `string` is a programming term in Python meaning a sequence of characters. This can include anything such as  words, numbers, symbols, a single character, a whole book, etc.\n",
    "\n",
    "To create a string, put double quotes`(\")` or single quotes`(')` around the characters. Make sure the opening and ending quotes match.\n",
    "\n",
    "`\"hello\"` is the same thing as `'hello'`\n",
    "\n",
    "You can output or display a string using the `print` statement. \n",
    "\n",
    "Run the cell below."
   ]
  },
  {
   "cell_type": "code",
   "execution_count": null,
   "metadata": {},
   "outputs": [],
   "source": [
    "print(\"hello world\")"
   ]
  },
  {
   "cell_type": "markdown",
   "metadata": {},
   "source": [
    "**Exercise 1.1.1** Fill in the print statement below telling me what you're most excited about for summer."
   ]
  },
  {
   "cell_type": "code",
   "execution_count": null,
   "metadata": {},
   "outputs": [],
   "source": [
    "print()"
   ]
  },
  {
   "cell_type": "markdown",
   "metadata": {},
   "source": [
    "<a id='section1.2'></a>\n",
    "### 1.2 Cells\n",
    "    - A cell is any rectangle with text in it.\n",
    "    - To add a cell, click \"Insert\" above at the toolbar and choose an option."
   ]
  },
  {
   "cell_type": "markdown",
   "metadata": {},
   "source": [
    "**Code**\n",
    "   - The language you will be learning in this notebook is Python \n",
    "   - To run and execute all the code in a cell, press the ▶| button in the toolbar \n",
    "\n",
    "Try running these cells:"
   ]
  },
  {
   "cell_type": "code",
   "execution_count": null,
   "metadata": {},
   "outputs": [],
   "source": [
    "print(\"Python is fun!\")"
   ]
  },
  {
   "cell_type": "code",
   "execution_count": null,
   "metadata": {},
   "outputs": [],
   "source": [
    "print(\"\\N{WAVING HAND SIGN}, \\N{EARTH GLOBE ASIA-AUSTRALIA}!\")"
   ]
  },
  {
   "cell_type": "markdown",
   "metadata": {},
   "source": [
    "Code is usually seperated into their own lines. When you run a cell, the lines of code will be outputted in the order in which they appear. \n",
    "\n",
    "Try running the next line."
   ]
  },
  {
   "cell_type": "code",
   "execution_count": null,
   "metadata": {},
   "outputs": [],
   "source": [
    "print('I like apples')\n",
    "print('but I also like bananas.')"
   ]
  },
  {
   "cell_type": "markdown",
   "metadata": {},
   "source": [
    "**Exercise 1.2.1** Change the cell above so that it prints out:\n",
    "    \n",
    "    I like apples\n",
    "    out of all the fruits in the 🌏, \n",
    "    but I also like bananas."
   ]
  },
  {
   "cell_type": "markdown",
   "metadata": {},
   "source": [
    "<a id='section1.2'></a>\n",
    "### 1.3 Jupyter Notebook Shortcuts"
   ]
  },
  {
   "cell_type": "markdown",
   "metadata": {},
   "source": [
    "   - `esc` - `a`: creates a cell above current cell\n",
    "   - `esc` - `b`: creates a cell below current cell\n",
    "   - `shift` - `enter`: runs a cell"
   ]
  },
  {
   "cell_type": "markdown",
   "metadata": {},
   "source": [
    "**Question 1.3.1** Add a cell below that prints out:\n",
    "   \n",
    "    Summer is coming!\n",
    "\n",
    "\n",
    "Practice using the shortcuts. Run your cell to verify that it works. "
   ]
  },
  {
   "cell_type": "markdown",
   "metadata": {},
   "source": [
    "<a id='section2'></a>\n",
    "# Part 2: Numbers\n",
    "In addition to text, Python knows how to intrepret and evaluate numbers. However, when numbers are outputted, any trailing 0 will be cut off. For example, `16.05200` evaluates to the number 16.052.\n",
    "\n",
    "Run the cell below:"
   ]
  },
  {
   "cell_type": "markdown",
   "metadata": {},
   "source": [
    "Notice how we didn't have to use the `print` function. This is because the code evaluated out to be a value which prints automatically. \n",
    "\n",
    "However, it will only print out the last line.\n",
    "\n",
    "Run the cell below:"
   ]
  },
  {
   "cell_type": "code",
   "execution_count": null,
   "metadata": {},
   "outputs": [],
   "source": [
    "16.05200"
   ]
  },
  {
   "cell_type": "code",
   "execution_count": null,
   "metadata": {},
   "outputs": [],
   "source": [
    "122.00500"
   ]
  },
  {
   "cell_type": "code",
   "execution_count": null,
   "metadata": {},
   "outputs": [],
   "source": [
    "2\n",
    "4\n",
    "6"
   ]
  },
  {
   "cell_type": "markdown",
   "metadata": {},
   "source": [
    "**Question 2.0.1.** If you also want to output 4, use the `print` function. Change the cell above to produce an output of 4 and 6."
   ]
  },
  {
   "cell_type": "markdown",
   "metadata": {},
   "source": [
    "<a id='section2.1'></a>\n",
    "### 2.1 Number Data Types"
   ]
  },
  {
   "cell_type": "markdown",
   "metadata": {},
   "source": [
    "There are two different data types when dealing with numbers.\n",
    "1. an `int` is any solid number (EX. 3,15,100)\n",
    "2. a `float` is any number with decimal places (EX. 3.14, 82.0, 100.4) \n",
    "\n",
    "You can convert between them."
   ]
  },
  {
   "cell_type": "code",
   "execution_count": null,
   "metadata": {},
   "outputs": [],
   "source": [
    "int(3.14)"
   ]
  },
  {
   "cell_type": "code",
   "execution_count": null,
   "metadata": {},
   "outputs": [],
   "source": [
    "float(3.14)"
   ]
  },
  {
   "cell_type": "markdown",
   "metadata": {},
   "source": [
    "What is the point of having both integers and floats? Some integers can be exactly represented by a float, but most can't. \n",
    "\n",
    "Run the cells below and notice the difference."
   ]
  },
  {
   "cell_type": "code",
   "execution_count": null,
   "metadata": {},
   "outputs": [],
   "source": [
    "a = 1000000000000000000000000000\n",
    "a+1 == a"
   ]
  },
  {
   "cell_type": "code",
   "execution_count": null,
   "metadata": {},
   "outputs": [],
   "source": [
    "a = 1000000000000000000000000000.0\n",
    "a+1 == a"
   ]
  },
  {
   "cell_type": "markdown",
   "metadata": {},
   "source": [
    "<a id='section2.2'></a>\n",
    "### 2.2 Basic Arithmetic Operations\n",
    "Lets look at some essential operations that you will be using in the future!"
   ]
  },
  {
   "cell_type": "markdown",
   "metadata": {},
   "source": [
    "Addition: `+`"
   ]
  },
  {
   "cell_type": "code",
   "execution_count": null,
   "metadata": {},
   "outputs": [],
   "source": []
  },
  {
   "cell_type": "markdown",
   "metadata": {},
   "source": [
    "Subtraction: `-`"
   ]
  },
  {
   "cell_type": "code",
   "execution_count": null,
   "metadata": {},
   "outputs": [],
   "source": []
  },
  {
   "cell_type": "markdown",
   "metadata": {},
   "source": [
    "Multiplication: `*`"
   ]
  },
  {
   "cell_type": "code",
   "execution_count": null,
   "metadata": {},
   "outputs": [],
   "source": []
  },
  {
   "cell_type": "markdown",
   "metadata": {},
   "source": [
    "Division: `/`"
   ]
  },
  {
   "cell_type": "code",
   "execution_count": null,
   "metadata": {},
   "outputs": [],
   "source": []
  },
  {
   "cell_type": "markdown",
   "metadata": {},
   "source": [
    "Floor Division: `//`\n",
    "This divides the number and rounds down"
   ]
  },
  {
   "cell_type": "code",
   "execution_count": null,
   "metadata": {},
   "outputs": [],
   "source": []
  },
  {
   "cell_type": "markdown",
   "metadata": {},
   "source": [
    "Remainder: `%`"
   ]
  },
  {
   "cell_type": "code",
   "execution_count": null,
   "metadata": {},
   "outputs": [],
   "source": []
  },
  {
   "cell_type": "markdown",
   "metadata": {},
   "source": [
    "Exponetiation: `**`   (make sure there is no space between `*` and `*`)"
   ]
  },
  {
   "cell_type": "code",
   "execution_count": null,
   "metadata": {},
   "outputs": [],
   "source": []
  },
  {
   "cell_type": "markdown",
   "metadata": {},
   "source": [
    "Like all math, Python has order of operations (PEMDAS). Run the following cell:"
   ]
  },
  {
   "cell_type": "code",
   "execution_count": null,
   "metadata": {},
   "outputs": [],
   "source": [
    "2**3-8*1-6*4*2**2/4*5"
   ]
  },
  {
   "cell_type": "markdown",
   "metadata": {},
   "source": [
    "This is what Python reads for that expression:\n",
    "\n",
    "$$2^3-8 \\times 1-6 \\times 4 \\times \\frac{2^2} {4} \\times 5$$"
   ]
  },
  {
   "cell_type": "markdown",
   "metadata": {},
   "source": [
    "**Question 2.2.1** Write a python expression below that is equal to:\n",
    "\n",
    "$$\\frac{(5 \\times 3 - 11 \\times2)^3 \\times (\\frac{(7^3)}{4})}{-4} $$\n",
    "\n",
    "Feel free to use parentheses."
   ]
  },
  {
   "cell_type": "code",
   "execution_count": null,
   "metadata": {},
   "outputs": [],
   "source": []
  },
  {
   "cell_type": "markdown",
   "metadata": {},
   "source": [
    "<a id='section3'></a>\n",
    "# Part 3: Python Basics"
   ]
  },
  {
   "cell_type": "markdown",
   "metadata": {},
   "source": [
    "<a id='section3.1'></a>\n",
    "### 3.1 Errors\n",
    "Python has grammer rules, just like any other language you learn. In order for the computer to understand and execute your code, these grammar rules must be followed. We will look at one of the most common type of errors:\n",
    "\n",
    "   - `SyntaxError`: the \"grammar rules\" are not being followed\n",
    "\n",
    "\n",
    "Run the cell below and notice the error."
   ]
  },
  {
   "cell_type": "code",
   "execution_count": null,
   "metadata": {},
   "outputs": [],
   "source": [
    "print(\"This is an unclosed line.\""
   ]
  },
  {
   "cell_type": "markdown",
   "metadata": {},
   "source": [
    "Lets break this error message down.\n",
    "\n",
    "- The note that comes after `SyntaxError`, tells us the problem with the code.\n",
    "    - \"`EOF`\" means \"end of file\".\n",
    "    - The small carrot `^` points to the part of the code where the error is made.\n",
    "\n",
    "**Question 3.1.1.** Fix the code above to sucessfully run the cell. "
   ]
  },
  {
   "cell_type": "markdown",
   "metadata": {},
   "source": [
    "<a id='section3.1'></a>\n",
    "### 3.2 Comments\n",
    "A comment is a line of code that the computer ignores and does not run. \n",
    "\n",
    "Why do we need this? When code has hundreds or even thousands of lines, it can get confusing and hard to understand the goal of your code. Adding comments allows you to detail what the code is doing in english. This is also important to other programmers you are working with to understand the logic behind your code.\n",
    "\n",
    "To add a comment, use a `#` symbol.\n",
    "\n",
    "Run the code below and notice how the comment has no effect on the output."
   ]
  },
  {
   "cell_type": "code",
   "execution_count": null,
   "metadata": {},
   "outputs": [],
   "source": [
    "#Today's date \n",
    "date = \"May 1\"\n",
    "date"
   ]
  },
  {
   "cell_type": "markdown",
   "metadata": {},
   "source": [
    "**Question 3.2.1** Add a comment to the cell below detailing what is happening. "
   ]
  },
  {
   "cell_type": "code",
   "execution_count": null,
   "metadata": {},
   "outputs": [],
   "source": [
    "pi = 22/7\n",
    "pi"
   ]
  },
  {
   "cell_type": "markdown",
   "metadata": {},
   "source": [
    "<a id='section3.3'></a>\n",
    "### 3.3 Assignment Statements\n",
    "\n",
    "When we speak we don't say, \"WOW look at that orange mammal with black stripes on it!\" Instead, we say, \"Tiger!\"\n",
    "\n",
    "Python can also do that same sort of classfication using assignment statements. These statements assign variables to expressions. The variable name is simply to label the value of the expression. The syntax is as followed `variable = expression`. Python will evaluate the expression on the right side of the `=` and then store it to the variable on the left of the `=`. Everytime you call that varible in your code now, Python will insert the evaluated expression.\n",
    "\n",
    "Note: \n",
    "1. Variables cannot start with a number like `4` but, `four` will work.\n",
    "2. Variables are case senstive, meaning `tiger` is different from `Tiger`.\n",
    "3. Instead of spaces, we use an underscore `_` to seperate words in a variable."
   ]
  },
  {
   "cell_type": "code",
   "execution_count": 30,
   "metadata": {},
   "outputs": [],
   "source": [
    "year = 2020"
   ]
  },
  {
   "cell_type": "markdown",
   "metadata": {},
   "source": [
    "Notice how no output was displayed? This is because Python stored the expression into the variable `year`. To display the expression, call the variable.\n",
    "\n",
    "Run the cell below:"
   ]
  },
  {
   "cell_type": "code",
   "execution_count": null,
   "metadata": {},
   "outputs": [],
   "source": [
    "year"
   ]
  },
  {
   "cell_type": "markdown",
   "metadata": {},
   "source": [
    "If no value or expression has been assigned to a name, Python will return a NameError:"
   ]
  },
  {
   "cell_type": "code",
   "execution_count": null,
   "metadata": {},
   "outputs": [],
   "source": [
    "favorite_color"
   ]
  },
  {
   "cell_type": "markdown",
   "metadata": {},
   "source": [
    "**Question 3.3.1** Assign a string to `favorite_color` below:"
   ]
  },
  {
   "cell_type": "code",
   "execution_count": 10,
   "metadata": {},
   "outputs": [],
   "source": [
    "favorite_color = \n",
    "favorite_color"
   ]
  },
  {
   "cell_type": "markdown",
   "metadata": {},
   "source": [
    "Another important aspect of assignment statements is to compute calculations. Complex computations can now be done  in stages making it easier to keep track of your work. Also, like comments, assignment statements help you to understand what your code is doing. "
   ]
  },
  {
   "cell_type": "code",
   "execution_count": null,
   "metadata": {},
   "outputs": [],
   "source": [
    "rent = \n",
    "months = \n",
    "total_rent_paid = rent* months\n",
    "total_rent_paid"
   ]
  },
  {
   "cell_type": "markdown",
   "metadata": {},
   "source": [
    "**Question 3.3.2** Assign the name `seconds_in_a_day` to the number of seconds in a day. "
   ]
  },
  {
   "cell_type": "code",
   "execution_count": null,
   "metadata": {},
   "outputs": [],
   "source": [
    "# Try using the Arithmetic functions previously taught in this lesson to solve the problem.\n",
    "\n",
    "seconds_in_a_day = \n",
    "\n",
    "#Hint: your output should have a 4 in it.\n",
    "seconds_in_a_day"
   ]
  },
  {
   "cell_type": "markdown",
   "metadata": {},
   "source": [
    "<a id='section3.4'></a>\n",
    "### 3.4 Functions\n",
    "A function is a statement that takes in an input, or argument, does some specific computation on it, and then generates an output. The syntax of a function looks like this: `function(argument)`. \n"
   ]
  },
  {
   "cell_type": "markdown",
   "metadata": {},
   "source": [
    "A common function that we have seen before:"
   ]
  },
  {
   "cell_type": "code",
   "execution_count": null,
   "metadata": {},
   "outputs": [],
   "source": [
    "print(\"I love dogs.\")"
   ]
  },
  {
   "cell_type": "markdown",
   "metadata": {},
   "source": [
    "Python has a set of built-in functions that are very important and simple to use. Lets look at a few down below!"
   ]
  },
  {
   "cell_type": "code",
   "execution_count": null,
   "metadata": {},
   "outputs": [],
   "source": [
    "max()"
   ]
  },
  {
   "cell_type": "code",
   "execution_count": null,
   "metadata": {},
   "outputs": [],
   "source": [
    "min()"
   ]
  },
  {
   "cell_type": "code",
   "execution_count": null,
   "metadata": {},
   "outputs": [],
   "source": [
    "#Run this cell \n",
    "# round() rounds the output to the nearest integer\n",
    "pi_rounded = round(pi)\n",
    "pi_rounded"
   ]
  },
  {
   "cell_type": "markdown",
   "metadata": {},
   "source": [
    "<a id='section3.5'></a>\n",
    "### 3.5 Importing Code\n",
    "\n",
    "Python has built-in functions that are previously defined by other people. These functions come in packages that can be imported and used by anyone.\n",
    "\n",
    "Let's look at the `import math` function. Run the cell below."
   ]
  },
  {
   "cell_type": "code",
   "execution_count": null,
   "metadata": {},
   "outputs": [],
   "source": [
    "import math\n",
    "\n",
    "print(math.pi)\n",
    "print(math.tan(0))"
   ]
  },
  {
   "cell_type": "markdown",
   "metadata": {},
   "source": [
    "Here are some of the functions you can use in the `math` notebook:\n",
    "\n",
    "|Method Name|Value|\n",
    "|-|-|\n",
    "|`cos(x)`|returns the cosine of x radians|\n",
    "|`sin(x)`|returns the sine of x radians|\n",
    "|`tan(x)`|returns the tangent of x radians|\n",
    "|`e`|returns the value of *e*|\n",
    "|`pi`|returns the value of pi (3.14)|\n",
    "|`factorial`| calculates factorials|\n",
    "|`log(logarithm, base)`|calculates logarithms. The first number is the logarithm and the second number is the base.|\n",
    "|`sqrt`| calculates square roots|"
   ]
  },
  {
   "cell_type": "markdown",
   "metadata": {},
   "source": [
    "**Question 3.5.1** \n",
    "\n",
    "Write this code in the following lines! \n",
    "\n",
    "**Hint**: Just stating the function does not tell python where to get it from. Remember to write `math.` before each function\n",
    "$$sin(\\pi)$$"
   ]
  },
  {
   "cell_type": "code",
   "execution_count": null,
   "metadata": {},
   "outputs": [],
   "source": []
  },
  {
   "cell_type": "markdown",
   "metadata": {},
   "source": [
    "$$\\sqrt(144)$$"
   ]
  },
  {
   "cell_type": "code",
   "execution_count": null,
   "metadata": {},
   "outputs": [],
   "source": []
  },
  {
   "cell_type": "markdown",
   "metadata": {},
   "source": [
    "$$\\log(7,10)$$"
   ]
  },
  {
   "cell_type": "code",
   "execution_count": null,
   "metadata": {},
   "outputs": [],
   "source": []
  },
  {
   "cell_type": "markdown",
   "metadata": {},
   "source": [
    "<center>Find the factorial of 5</center>"
   ]
  },
  {
   "cell_type": "code",
   "execution_count": null,
   "metadata": {},
   "outputs": [],
   "source": []
  }
 ],
 "metadata": {
  "kernelspec": {
   "display_name": "Python 3",
   "language": "python",
   "name": "python3"
  },
  "language_info": {
   "codemirror_mode": {
    "name": "ipython",
    "version": 3
   },
   "file_extension": ".py",
   "mimetype": "text/x-python",
   "name": "python",
   "nbconvert_exporter": "python",
   "pygments_lexer": "ipython3",
   "version": "3.6.9"
  }
 },
 "nbformat": 4,
 "nbformat_minor": 4
}
